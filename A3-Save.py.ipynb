{
 "cells": [
  {
   "cell_type": "markdown",
   "metadata": {},
   "source": [
    "# Assignment 3 - Step 1: Data collection\n",
    "Group 11:\n",
    "- Lisa Driessen - r0675727\n",
    "- Laura Fernández López - r0877908\n",
    "- Silvia María Goñi Mendia - r0877434\n",
    "- Peter Day - r0866276"
   ]
  },
  {
   "cell_type": "code",
   "execution_count": 1,
   "metadata": {},
   "outputs": [],
   "source": [
    "import threading\n",
    "import os, re\n",
    "import pandas as pd\n",
    "from operator import itemgetter\n",
    "from pyspark.streaming import StreamingContext"
   ]
  },
  {
   "cell_type": "markdown",
   "metadata": {},
   "source": [
    "## Collect data"
   ]
  },
  {
   "cell_type": "code",
   "execution_count": 2,
   "metadata": {},
   "outputs": [],
   "source": [
    "# Helper thread to avoid the Spark StreamingContext from blocking Jupyter\n",
    "        \n",
    "class StreamingThread(threading.Thread):\n",
    "    def __init__(self, ssc):\n",
    "        super().__init__()\n",
    "        self.ssc = ssc\n",
    "    def run(self):\n",
    "        self.ssc.start()\n",
    "        self.ssc.awaitTermination()\n",
    "    def stop(self):\n",
    "        print('----- Stopping... this may take a few seconds -----')\n",
    "        self.ssc.stop(stopSparkContext=False, stopGraceFully=True)"
   ]
  },
  {
   "cell_type": "code",
   "execution_count": 3,
   "metadata": {},
   "outputs": [
    {
     "data": {
      "text/html": [
       "\n",
       "        <div>\n",
       "            <p><b>SparkContext</b></p>\n",
       "\n",
       "            <p><a href=\"http://192.168.0.100:4043\">Spark UI</a></p>\n",
       "\n",
       "            <dl>\n",
       "              <dt>Version</dt>\n",
       "                <dd><code>v3.2.1</code></dd>\n",
       "              <dt>Master</dt>\n",
       "                <dd><code>local[*]</code></dd>\n",
       "              <dt>AppName</dt>\n",
       "                <dd><code>PySparkShell</code></dd>\n",
       "            </dl>\n",
       "        </div>\n",
       "        "
      ],
      "text/plain": [
       "<SparkContext master=local[*] appName=PySparkShell>"
      ]
     },
     "execution_count": 3,
     "metadata": {},
     "output_type": "execute_result"
    }
   ],
   "source": [
    "sc"
   ]
  },
  {
   "cell_type": "code",
   "execution_count": 5,
   "metadata": {},
   "outputs": [],
   "source": [
    "ssc = StreamingContext(sc, 60)"
   ]
  },
  {
   "cell_type": "code",
   "execution_count": 6,
   "metadata": {
    "scrolled": true
   },
   "outputs": [],
   "source": [
    "lines = ssc.socketTextStream(\"localhost\", 8080)\n",
    "\n",
    "# Write path for saving folder, \"nt\" for Windows, \"posix\" for Mac and Linux\n",
    "if (os.name == \"nt\"):\n",
    "    lines.repartition(1).saveAsTextFiles(\"C:/Users/peter/Documents/spark\")\n",
    "elif (os.name == \"posix\"):\n",
    "    lines.repartition(1).saveAsTextFiles(\"/Users/silvia/Desktop/guardar/\")"
   ]
  },
  {
   "cell_type": "code",
   "execution_count": 7,
   "metadata": {},
   "outputs": [],
   "source": [
    "ssc_t = StreamingThread(ssc)\n",
    "ssc_t.start()"
   ]
  },
  {
   "cell_type": "code",
   "execution_count": 8,
   "metadata": {},
   "outputs": [
    {
     "name": "stdout",
     "output_type": "stream",
     "text": [
      "----- Stopping... this may take a few seconds -----\n"
     ]
    }
   ],
   "source": [
    "ssc_t.stop()"
   ]
  },
  {
   "cell_type": "markdown",
   "metadata": {},
   "source": [
    "## Save data as csv file"
   ]
  },
  {
   "cell_type": "code",
   "execution_count": 10,
   "metadata": {},
   "outputs": [
    {
     "name": "stdout",
     "output_type": "stream",
     "text": [
      "0\n",
      "(1, 3)\n",
      "(135, 3)\n",
      "(280, 3)\n",
      "(416, 3)\n",
      "(513, 3)\n"
     ]
    }
   ],
   "source": [
    "# Write same path as in the previous step\n",
    "if (os.name == \"nt\"):\n",
    "    rootPath = \"C:/Users/peter/Documents/spark\"\n",
    "elif (os.name == \"posix\"):\n",
    "    rootPath = \"/Users/silvia/Desktop/guardar/\"\n",
    "\n",
    "# Only read files called \"part-00000\", ignoring \"_SUCCESS\" files\n",
    "fileType = 'part-00000'\n",
    "notInclude = 'crc'\n",
    "files = []\n",
    "directories = []\n",
    "messages = []\n",
    "\n",
    "# Create dataframe to include all messages\n",
    "df = pd.DataFrame()\n",
    "dfAll = pd.DataFrame()\n",
    "print(dfAll.shape[0])\n",
    "channel1 = 'loltyler1'\n",
    "channel2 = 'jinnytty'\n",
    "\n",
    "i=0\n",
    "for dirpath, dirnames, filenames in os.walk(rootPath):\n",
    "    for file in os.scandir(dirpath):\n",
    "        if not('-' in file.path):\n",
    "            continue\n",
    "        else:\n",
    "            if file.is_file():\n",
    "                if (str(file).find(fileType) != -1) and (str(file).find('crc') == -1):\n",
    "                    df = pd.DataFrame(pd.read_json(file, orient='records', lines=True, encoding = 'ISO-8859-1'))\n",
    "                    df.drop(df.columns[[0]], axis = 1, inplace = True)\n",
    "                    dfAll = pd.concat([dfAll, df])\n",
    "                    print(dfAll.shape)\n",
    "\n",
    "# Save df as csv file\n",
    "dfAll.to_csv(\"messages.csv\", index=False)"
   ]
  }
 ],
 "metadata": {
  "kernelspec": {
   "display_name": "Python 3",
   "language": "python",
   "name": "python3"
  },
  "language_info": {
   "codemirror_mode": {
    "name": "ipython",
    "version": 3
   },
   "file_extension": ".py",
   "mimetype": "text/x-python",
   "name": "python",
   "nbconvert_exporter": "python",
   "pygments_lexer": "ipython3",
   "version": "3.8.8"
  },
  "toc": {
   "base_numbering": 1,
   "nav_menu": {},
   "number_sections": true,
   "sideBar": true,
   "skip_h1_title": false,
   "title_cell": "Table of Contents",
   "title_sidebar": "Contents",
   "toc_cell": false,
   "toc_position": {},
   "toc_section_display": true,
   "toc_window_display": false
  }
 },
 "nbformat": 4,
 "nbformat_minor": 4
}
